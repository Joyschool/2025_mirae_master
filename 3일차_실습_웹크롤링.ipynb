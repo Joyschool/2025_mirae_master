{
  "nbformat": 4,
  "nbformat_minor": 0,
  "metadata": {
    "colab": {
      "provenance": [],
      "authorship_tag": "ABX9TyOteezA1r1bRlJ0RlvHIXpN",
      "include_colab_link": true
    },
    "kernelspec": {
      "name": "python3",
      "display_name": "Python 3"
    },
    "language_info": {
      "name": "python"
    }
  },
  "cells": [
    {
      "cell_type": "markdown",
      "metadata": {
        "id": "view-in-github",
        "colab_type": "text"
      },
      "source": [
        "<a href=\"https://colab.research.google.com/github/Joyschool/2025_mirae_master/blob/main/3%EC%9D%BC%EC%B0%A8_%EC%8B%A4%EC%8A%B5_%EC%9B%B9%ED%81%AC%EB%A1%A4%EB%A7%81.ipynb\" target=\"_parent\"><img src=\"https://colab.research.google.com/assets/colab-badge.svg\" alt=\"Open In Colab\"/></a>"
      ]
    },
    {
      "cell_type": "markdown",
      "source": [
        "# 웹 크롤링 테스트"
      ],
      "metadata": {
        "id": "QqenAh6Y1Vu9"
      }
    },
    {
      "cell_type": "markdown",
      "source": [
        "## 기본 라이브러리 확인 및 설치"
      ],
      "metadata": {
        "id": "cy6o3NTn2Vea"
      }
    },
    {
      "cell_type": "code",
      "execution_count": null,
      "metadata": {
        "id": "E3p_rty-1LhG"
      },
      "outputs": [],
      "source": [
        "!pip show requests beautifulsoup4 selenium\n"
      ]
    },
    {
      "cell_type": "code",
      "source": [
        "!pip install beautifulsoup4"
      ],
      "metadata": {
        "id": "4tXRMbyj1040"
      },
      "execution_count": null,
      "outputs": []
    },
    {
      "cell_type": "code",
      "source": [
        "!pip install selenium"
      ],
      "metadata": {
        "id": "bGgr3-B92Jhd"
      },
      "execution_count": null,
      "outputs": []
    },
    {
      "cell_type": "markdown",
      "source": [
        "## 웹페이지 요청 기본 코드"
      ],
      "metadata": {
        "id": "8-YlLmka2dvu"
      }
    },
    {
      "cell_type": "code",
      "source": [
        "import requests\n",
        "\n",
        "response = requests.get('https://google.com')\n",
        "\n",
        "print('#응답 상태:', response.status_code)\n",
        "# print('#바이너리 원문:\\n', response.content)\n",
        "print('#텍스트 원문:\\n', response.text)\n",
        "print('#헤더:\\n', response.headers)"
      ],
      "metadata": {
        "id": "xNB724ly2y1w"
      },
      "execution_count": null,
      "outputs": []
    },
    {
      "cell_type": "markdown",
      "source": [
        "## ChatGPT에게 요청한 결과"
      ],
      "metadata": {
        "id": "GTOdZgYy-s-W"
      }
    },
    {
      "cell_type": "code",
      "source": [
        "import requests\n",
        "from bs4 import BeautifulSoup\n",
        "import pandas as pd\n",
        "\n",
        "base_url = \"https://modu.pcpp.go.kr\"\n",
        "list_url = f\"{base_url}/suggest-board?page=1&limit=2&sortType=recent\"\n",
        "\n",
        "# 헤더 설정 (봇 차단 방지용)\n",
        "headers = {\n",
        "    \"User-Agent\": \"Mozilla/5.0\"\n",
        "}\n",
        "\n",
        "# HTML 요청\n",
        "response = requests.get(list_url, headers=headers)\n",
        "print('#응답 상태:', response.status_code)\n",
        "# print('#텍스트 원문:\\n', response.text)\n",
        "# print('#헤더:\\n', response.headers)\n",
        "\n",
        "\n",
        "soup = BeautifulSoup(response.text, \"html.parser\")\n",
        "\n",
        "# 항목들 파싱 #proposal_list_anchor >\n",
        "rows = soup.select(\"div.suggest-list\")  # 각 제안 항목\n",
        "rows\n",
        "\n",
        "data = []\n",
        "for row in rows:\n",
        "    print(row)\n",
        "    print('*' * 50)\n",
        "    # title = row.select_one(\".tit\").text.strip() if row.select_one(\".tit\") else \"\"\n",
        "#     content = row.select_one(\".txt\").text.strip() if row.select_one(\".txt\") else \"\"\n",
        "#     date = row.select_one(\".date\").text.strip() if row.select_one(\".date\") else \"\"\n",
        "#     likes = row.select_one(\".like\").text.strip() if row.select_one(\".like\") else \"0\"\n",
        "\n",
        "#     data.append({\n",
        "#         \"제목\": title,\n",
        "#         \"내용\": content,\n",
        "#         \"등록일\": date,\n",
        "#         \"좋아요\": likes\n",
        "#     })\n",
        "\n",
        "# # DataFrame으로 변환\n",
        "# df = pd.DataFrame(data)\n",
        "# print(df.head())\n",
        "\n",
        "# # CSV로 저장 (선택사항)\n",
        "# df.to_csv(\"modu_proposals.csv\", index=False, encoding='utf-8-sig')\n"
      ],
      "metadata": {
        "id": "fKd9fmox-yNB"
      },
      "execution_count": null,
      "outputs": []
    }
  ]
}