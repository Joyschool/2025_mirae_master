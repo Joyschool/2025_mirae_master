{
  "nbformat": 4,
  "nbformat_minor": 0,
  "metadata": {
    "colab": {
      "provenance": [],
      "include_colab_link": true
    },
    "kernelspec": {
      "name": "python3",
      "display_name": "Python 3"
    },
    "language_info": {
      "name": "python"
    }
  },
  "cells": [
    {
      "cell_type": "markdown",
      "metadata": {
        "id": "view-in-github",
        "colab_type": "text"
      },
      "source": [
        "<a href=\"https://colab.research.google.com/github/Joyschool/2025_mirae_master/blob/main/2%EC%9D%BC%EC%B0%A8_%EB%B0%94%EC%9D%B4%EB%B8%8C%EC%BD%94%EB%94%A9_%EC%84%9C%EC%9A%B8%EC%8B%9C%EC%A7%80%ED%95%98%EC%B2%A0%EC%8A%B9%ED%95%98%EC%B0%A8%EC%9D%B8%EC%9B%90%EB%B6%84%EC%84%9D.ipynb\" target=\"_parent\"><img src=\"https://colab.research.google.com/assets/colab-badge.svg\" alt=\"Open In Colab\"/></a>"
      ]
    },
    {
      "cell_type": "markdown",
      "source": [
        "# 바이브 코딩 - 서울시지하철승하차인원분석"
      ],
      "metadata": {
        "id": "KtMpfzaZSvnX"
      }
    },
    {
      "cell_type": "markdown",
      "source": [
        "- **(코랩에서)한글폰트 설치하기**"
      ],
      "metadata": {
        "id": "QzoHohTZbhQN"
      }
    },
    {
      "cell_type": "code",
      "source": [
        "!sudo apt-get install -y fonts-nanum\n",
        "!sudo fc-cache -fv\n",
        "!rm ~/.cache/matplotlib -rf\n",
        "\n",
        "# 런타입 > 세션 다시 시작"
      ],
      "metadata": {
        "id": "b1HbwmIhbgiR",
        "collapsed": true
      },
      "execution_count": null,
      "outputs": []
    },
    {
      "cell_type": "markdown",
      "source": [
        "\n",
        "\n",
        "---\n",
        "\n"
      ],
      "metadata": {
        "id": "1hYRyt5-Xmjl"
      }
    },
    {
      "cell_type": "markdown",
      "source": [
        "## 1.데이터 준비\n",
        "\n"
      ],
      "metadata": {
        "id": "Lhujf_mkTBF7"
      }
    },
    {
      "cell_type": "markdown",
      "source": [
        "- 데이터 출처 : 서울 열린데이터광장\n",
        "- URL :https://data.seoul.go.kr/dataList/OA-12914/S/1/datasetView.do\n",
        "- 데이터 : 202505월 데이터,  CARD_SUBWAY_MONTH_202505.csv"
      ],
      "metadata": {
        "id": "DZjfVRY1TbU0"
      }
    },
    {
      "cell_type": "markdown",
      "source": [
        "## 2.분석 툴\n",
        "- ChatGPT (무료 GPT-4o)\n",
        "- Gemini 2.5 Flash (무료)"
      ],
      "metadata": {
        "id": "Uzb-QssoUAqW"
      }
    },
    {
      "cell_type": "markdown",
      "source": [
        "## 3. 바이브 코딩으로 데이터 분석하기"
      ],
      "metadata": {
        "id": "jaKPEzfyUR9k"
      }
    },
    {
      "cell_type": "markdown",
      "source": [
        "### 3-1.ChatGPT로 데이터 분석하기"
      ],
      "metadata": {
        "id": "5Bu7Z9yZUXR6"
      }
    },
    {
      "cell_type": "markdown",
      "source": [
        "- 시작->데이터 주고 무작정 데이터 분석 요청하기!"
      ],
      "metadata": {
        "id": "rF88aknEUjc9"
      }
    },
    {
      "cell_type": "markdown",
      "source": [
        "#### 1.날짜별 전체 승차/하차 인원수 추이 그래프"
      ],
      "metadata": {
        "id": "sOXGrITTgFaO"
      }
    },
    {
      "cell_type": "code",
      "source": [
        "import pandas as pd\n",
        "\n",
        "# Load the uploaded CSV file\n",
        "file_path = \"CARD_SUBWAY_MONTH_202505.csv\"\n",
        "df = pd.read_csv(file_path, index_col=False, header=0) # 첫 컬럼 인덱스제외, 첫 행은 컬럼으로 사용\n",
        "\n",
        "# Display the first few rows and basic info\n",
        "df.head()\n",
        "# df.info()\n"
      ],
      "metadata": {
        "id": "3kEyJwsyUjv7"
      },
      "execution_count": null,
      "outputs": []
    },
    {
      "cell_type": "code",
      "source": [
        "import matplotlib.pyplot as plt\n",
        "import seaborn as sns\n",
        "\n",
        "# 한글 폰트 경로 설정\n",
        "font_path = '/usr/share/fonts/truetype/nanum/NanumGothic.ttf'\n",
        "# matplotlib에서 기본 폰트로 지정\n",
        "plt.rcParams['font.family'] = 'NanumGothic'\n",
        "\n",
        "\n",
        "\n",
        "# 날짜 형식 처리\n",
        "# df['사용일자'] = pd.to_datetime(df['사용일자'], format='%Y%m%d')\n",
        "# df['사용일자'] = df['사용일자'].dt.strftime('%Y-%m-%d')\n",
        "# df['사용일자']\n",
        "\n",
        "# 1. 날짜별 전체 승차/하차 인원수 추이\n",
        "daily_summary = df.groupby('사용일자')[['승차총승객수', '하차총승객수']].sum()\n",
        "daily_summary\n",
        "\n",
        "\n",
        "# 그래프 스타일 설정\n",
        "plt.figure(figsize=(14, 6))\n",
        "sns.lineplot(data=daily_summary)\n",
        "# daily_summary.plot(kind='bar', figsize=(14, 6))\n",
        "plt.title(\"2025년 5월 지하철 이용 추이 (일별 총 승차/하차 인원수)\")\n",
        "plt.xlabel(\"날짜\")\n",
        "plt.ylabel(\"인원수\")\n",
        "plt.xticks(rotation=45)\n",
        "# plt.tight_layout()\n",
        "plt.grid(True)\n",
        "plt.show()\n"
      ],
      "metadata": {
        "id": "BFZgq0oHUjza"
      },
      "execution_count": null,
      "outputs": []
    },
    {
      "cell_type": "markdown",
      "source": [
        "#### 2.노선별 총 승하차 인원 상위/하위"
      ],
      "metadata": {
        "id": "3hMNhejaf9Y_"
      }
    },
    {
      "cell_type": "code",
      "source": [
        "# 노선별로 총 승차/하차 인원을 합산\n",
        "line_summary = df.groupby('노선명')[['승차총승객수', '하차총승객수']].sum()\n",
        "\n",
        "# 총 이용객 수 컬럼 추가\n",
        "line_summary['총이용객수'] = line_summary['승차총승객수'] + line_summary['하차총승객수']\n",
        "\n",
        "# 상위 5개 노선\n",
        "top_lines = line_summary.sort_values('총이용객수', ascending=False).head(5)\n",
        "\n",
        "# 하위 5개 노선\n",
        "bottom_lines = line_summary.sort_values('총이용객수').head(5)\n",
        "\n",
        "top_lines, bottom_lines\n"
      ],
      "metadata": {
        "id": "wKTqCuG8VZEb"
      },
      "execution_count": null,
      "outputs": []
    },
    {
      "cell_type": "markdown",
      "source": [
        "#### 3.역별 이용객 수 상위 10곳"
      ],
      "metadata": {
        "id": "3ZGZPfZvgQBI"
      }
    },
    {
      "cell_type": "code",
      "source": [
        "# '사용일자'가 숫자인 행만 필터링 후 날짜로 변환\n",
        "df = df[df['사용일자'].astype(str).str.isnumeric()]\n",
        "df['사용일자'] = pd.to_datetime(df['사용일자'], format='%Y%m%d')\n",
        "\n",
        "# 총 이용객수 컬럼 생성 (승차 + 하차)\n",
        "df['총이용객수'] = df['승차총승객수'] + df['하차총승객수']\n",
        "\n",
        "# 역별 총 이용객수 집계 후 상위 10개 추출\n",
        "top10_stations = df.groupby('역명')['총이용객수'].sum().sort_values(ascending=False).head(10)\n",
        "\n",
        "top10_stations\n"
      ],
      "metadata": {
        "id": "TZhD_QabgZcd"
      },
      "execution_count": null,
      "outputs": []
    },
    {
      "cell_type": "markdown",
      "source": [
        "#### 4.대표값(총합, 평균 등) 정리"
      ],
      "metadata": {
        "id": "pB0O2w-ygTQa"
      }
    },
    {
      "cell_type": "code",
      "source": [
        "import pandas as pd\n",
        "\n",
        "# 전처리된 DataFrame이 df라고 가정\n",
        "\n",
        "# 총합\n",
        "total_boarding = df['승차총승객수'].sum()\n",
        "total_alighting = df['하차총승객수'].sum()\n",
        "total_usage = total_boarding + total_alighting\n",
        "\n",
        "# 일일 평균 (일자 수 기준)\n",
        "daily_avg_boarding = df.groupby('사용일자')['승차총승객수'].sum().mean()\n",
        "daily_avg_alighting = df.groupby('사용일자')['하차총승객수'].sum().mean()\n",
        "daily_avg_total = daily_avg_boarding + daily_avg_alighting\n",
        "\n",
        "# 역별 평균 (역 기준)\n",
        "station_avg_boarding = df.groupby('역명')['승차총승객수'].sum().mean()\n",
        "station_avg_alighting = df.groupby('역명')['하차총승객수'].sum().mean()\n",
        "station_avg_total = station_avg_boarding + station_avg_alighting\n",
        "\n",
        "# 결과 정리\n",
        "summary = {\n",
        "    \"총 승차 인원\": total_boarding,\n",
        "    \"총 하차 인원\": total_alighting,\n",
        "    \"총 이용객 수\": total_usage,\n",
        "    \"일일 평균 승차 인원\": daily_avg_boarding,\n",
        "    \"일일 평균 하차 인원\": daily_avg_alighting,\n",
        "    \"일일 평균 이용객 수\": daily_avg_total,\n",
        "    \"역당 평균 승차 인원\": station_avg_boarding,\n",
        "    \"역당 평균 하차 인원\": station_avg_alighting,\n",
        "    \"역당 평균 이용객 수\": station_avg_total\n",
        "}\n",
        "\n",
        "# 결과 출력\n",
        "for k, v in summary.items():\n",
        "    print(f\"{k}: {v:,.0f}명\")\n"
      ],
      "metadata": {
        "id": "Yp4fcf3GgaRe"
      },
      "execution_count": null,
      "outputs": []
    },
    {
      "cell_type": "markdown",
      "source": [
        "\n",
        "\n",
        "---\n",
        "\n"
      ],
      "metadata": {
        "id": "N8BhBvXQipa1"
      }
    },
    {
      "cell_type": "markdown",
      "source": [
        "### 3-2.Gemini로 데이터 분석하기"
      ],
      "metadata": {
        "id": "mdtCL-VrUea-"
      }
    },
    {
      "cell_type": "markdown",
      "source": [
        "- [주의!] Gemini 무료 버전은 TXT 유형의 데이터를 분석할 수 있다.\n",
        "- 엑셀에서 데이터를 텍스트로 변환하고 데이터 분석 요청하기"
      ],
      "metadata": {
        "id": "GXmtbm1ekDbw"
      }
    },
    {
      "cell_type": "markdown",
      "source": [
        "#### 1.가장 붐비는 노선(승차 및 하차 총합 기준) TOP5"
      ],
      "metadata": {
        "id": "pqGOhhtEpF7w"
      }
    },
    {
      "cell_type": "code",
      "execution_count": null,
      "metadata": {
        "id": "Z_1vcBk0SNYq"
      },
      "outputs": [],
      "source": [
        "import pandas as pd\n",
        "\n",
        "# 1. 파일 경로 지정 (업로드된 파일이 현재 실행 환경에 있다고 가정)\n",
        "file_path = 'CARD_SUBWAY_MONTH_202505.txt'\n",
        "\n",
        "try:\n",
        "    # 2. 탭(tab)으로 구분된 CSV 파일 읽기\n",
        "    # encoding='cp949' 또는 'euc-kr'을 사용하는 경우가 많습니다.\n",
        "    # 파일을 읽다가 인코딩 에러가 나면 다른 인코딩을 시도해 보세요.\n",
        "    df = pd.read_csv(file_path, sep='\\t', encoding='cp949')\n",
        "\n",
        "    # 3. 필요한 컬럼의 데이터 타입 확인 및 변환\n",
        "    # '승차총승객수'와 '하차총승객수'가 숫자로 되어 있는지 확인하고, 아니면 숫자로 변환합니다.\n",
        "    # errors='coerce' 옵션을 사용하여 숫자로 변환할 수 없는 값은 NaN으로 만듭니다.\n",
        "    df['승차총승객수'] = pd.to_numeric(df['승차총승객수'], errors='coerce')\n",
        "    df['하차총승객수'] = pd.to_numeric(df['하차총승객수'], errors='coerce')\n",
        "\n",
        "    # NaN 값 (변환 실패한 값)이 있다면 0으로 채웁니다.\n",
        "    df = df.fillna(0)\n",
        "\n",
        "    # 4. 노선별 총 승객수 계산\n",
        "    # '승차총승객수'와 '하차총승객수'를 더하여 '총승객수' 컬럼을 만듭니다.\n",
        "    df['총승객수'] = df['승차총승객수'] + df['하차총승객수']\n",
        "\n",
        "    # '노선명'별로 '총승객수'를 합산합니다.\n",
        "    total_passengers_by_line = df.groupby('노선명')['총승객수'].sum()\n",
        "\n",
        "    # 5. 가장 붐비는 노선 TOP 5 선정\n",
        "    top_5_lines = total_passengers_by_line.nlargest(5)\n",
        "\n",
        "    # 6. 결과 출력\n",
        "    print(\"가장 붐비는 노선 TOP 5 (승차 및 하차 총합 기준):\")\n",
        "    print(top_5_lines)\n",
        "\n",
        "except FileNotFoundError:\n",
        "    print(f\"오류: '{file_path}' 파일을 찾을 수 없습니다. 파일이 올바른 위치에 있는지 확인해주세요.\")\n",
        "except Exception as e:\n",
        "    print(f\"데이터 처리 중 오류가 발생했습니다: {e}\")"
      ]
    },
    {
      "cell_type": "markdown",
      "source": [
        "#### 2.TOP5 막대그래프로 표현하기"
      ],
      "metadata": {
        "id": "28TSdP7WqMlk"
      }
    },
    {
      "cell_type": "code",
      "source": [
        "#plt.figure(figsize=(10, 6)) # 그래프 크기 설정\n",
        "top_5_lines.plot(kind='bar', color='skyblue') # 막대 그래프 그리기\n",
        "\n",
        "# 그래프 제목 및 축 라벨 설정\n",
        "plt.title('가장 붐비는 지하철 노선 TOP 5 (2025년 5월)', fontsize=16)\n",
        "plt.xlabel('노선명', fontsize=12)\n",
        "plt.ylabel('총 승객수', fontsize=12)\n",
        "\n",
        "# Y축 숫자 표기법 변경 (천 단위 콤마)\n",
        "plt.ticklabel_format(axis='y', style='plain') # 지수 표기법 대신 일반 숫자 표기\n",
        "plt.gca().yaxis.set_major_formatter(plt.FuncFormatter(lambda x, p: format(int(x), ',')))\n",
        "plt.show()"
      ],
      "metadata": {
        "id": "IG8rAslGqLHz"
      },
      "execution_count": null,
      "outputs": []
    },
    {
      "cell_type": "markdown",
      "source": [],
      "metadata": {
        "id": "NIMEqQrJrtcQ"
      }
    },
    {
      "cell_type": "code",
      "source": [
        "try:\n",
        "    # 2. 탭(tab)으로 구분된 CSV 파일 읽기\n",
        "    # encoding='cp949' 또는 'euc-kr'을 사용하는 경우가 많습니다.\n",
        "    # 파일을 읽다가 인코딩 에러가 나면 다른 인코딩을 시도해 보세요.\n",
        "    df = pd.read_csv(file_path, sep='\\t', encoding='cp949')\n",
        "\n",
        "    # 3. 필요한 컬럼의 데이터 타입 확인 및 변환\n",
        "    # '승차총승객수'와 '하차총승객수'가 숫자로 되어 있는지 확인하고, 아니면 숫자로 변환합니다.\n",
        "    # errors='coerce' 옵션을 사용하여 숫자로 변환할 수 없는 값은 NaN으로 만듭니다.\n",
        "    df['승차총승객수'] = pd.to_numeric(df['승차총승객수'], errors='coerce')\n",
        "    df['하차총승객수'] = pd.to_numeric(df['하차총승객수'], errors='coerce')\n",
        "\n",
        "    # NaN 값 (변환 실패한 값)이 있다면 0으로 채웁니다.\n",
        "    df = df.fillna(0)\n",
        "\n",
        "    # 4. 노선별 총 승객수 계산\n",
        "    # '승차총승객수'와 '하차총승객수'를 더하여 '총승객수' 컬럼을 만듭니다.\n",
        "    df['총승객수'] = df['승차총승객수'] + df['하차총승객수']\n",
        "\n",
        "\n",
        "    # Group the DataFrame by '역명' (Station Name) and sum the '총승객수' for each station.\n",
        "    total_passengers_by_station = df.groupby('역명')['총승객수'].sum()\n",
        "\n",
        "    # Get the top 5 stations with the highest total passenger count.\n",
        "    top_5_stations = total_passengers_by_station.nlargest(5)\n",
        "\n",
        "    # Print the result.\n",
        "    print(\"가장 붐비는 역 TOP 5 (승차 및 하차 총합 기준):\")\n",
        "    print(top_5_stations)\n",
        "\n",
        "    # --- 막대 그래프 생성 ---\n",
        "    # 폰트 설정 (한글 깨짐 방지)\n",
        "    # 시스템에 'Malgun Gothic' 폰트가 없으면 다른 한글 폰트 (예: 'AppleGothic', 'NanumGothic')로 변경하거나\n",
        "    # 폰트 파일을 다운로드하여 설정해야 합니다.\n",
        "    plt.rcParams['font.family'] = 'NanumGothic' # For Windows\n",
        "    plt.rcParams['axes.unicode_minus'] = False # Prevents minus sign from breaking font\n",
        "\n",
        "    # Create the plot figure and axes\n",
        "    plt.figure(figsize=(12, 7)) # Set the figure size for better readability\n",
        "    top_5_stations.plot(kind='bar', color='lightcoral') # Plot as a bar chart with a different color\n",
        "\n",
        "    # Set the title and axis labels\n",
        "    plt.title('가장 붐비는 지하철 역 TOP 5 (2025년 5월)', fontsize=18, pad=20)\n",
        "    plt.xlabel('역명', fontsize=14)\n",
        "    plt.ylabel('총 승객수', fontsize=14)\n",
        "\n",
        "    # Format Y-axis labels to display with commas for thousands\n",
        "    plt.ticklabel_format(axis='y', style='plain') # Use plain style instead of scientific notation\n",
        "    plt.gca().yaxis.set_major_formatter(plt.FuncFormatter(lambda x, p: format(int(x), ',')))\n",
        "\n",
        "    # Add passenger counts on top of the bars\n",
        "    for index, value in enumerate(top_5_stations):\n",
        "        plt.text(index, value, f'{value:,.0f}', ha='center', va='bottom', fontsize=11)\n",
        "\n",
        "    # Rotate X-axis labels for better readability if station names are long\n",
        "    plt.xticks(rotation=45, ha='right', fontsize=12)\n",
        "    plt.yticks(fontsize=12)\n",
        "\n",
        "    plt.grid(axis='y', linestyle='--', alpha=0.7) # Add a grid for easier reading\n",
        "    plt.tight_layout() # Adjust layout to prevent labels from overlapping\n",
        "    plt.show() # Display the plot\n",
        "\n",
        "except FileNotFoundError:\n",
        "    print(\"오류: 'CARD_SUBWAY_MONTH_202505.txt' 파일을 찾을 수 없습니다. 파일이 올바른 위치에 있는지 확인해주세요.\")\n",
        "except Exception as e:\n",
        "    print(f\"데이터 처리 중 오류가 발생했습니다: {e}\")"
      ],
      "metadata": {
        "id": "WHZeZhz_rtk0"
      },
      "execution_count": null,
      "outputs": []
    }
  ]
}